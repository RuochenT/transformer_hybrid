{
 "cells": [
  {
   "cell_type": "markdown",
   "id": "f712896b",
   "metadata": {},
   "source": [
    " # Experiment 1: Multi-label classification with XLNet (~ 5 hours)"
   ]
  },
  {
   "cell_type": "markdown",
   "id": "319e415b",
   "metadata": {},
   "source": [
    "## Import libraries "
   ]
  },
  {
   "cell_type": "code",
   "execution_count": null,
   "id": "bedb2de9",
   "metadata": {},
   "outputs": [],
   "source": [
    "import torch\n",
    "import pandas as pd\n",
    "import evaluate\n",
    "import numpy as np\n",
    "import os \n",
    "from transformers import XLNetTokenizer\n",
    "from sklearn.metrics import f1_score, roc_auc_score, accuracy_score\n",
    "from sklearn.preprocessing import LabelBinarizer\n",
    "from transformers import TrainingArguments,TrainerCallback ,Trainer,XLNetForSequenceClassification\n",
    "from datasets import load_dataset, ClassLabel, Value, load_metric, load_from_disk\n",
    "from pytorch_transformers import WEIGHTS_NAME, CONFIG_NAME"
   ]
  },
  {
   "cell_type": "code",
   "execution_count": null,
   "id": "a2943f3c",
   "metadata": {},
   "outputs": [],
   "source": [
    "df_train= load_dataset(\"csv\", data_files=\"/Users/ruochentan1/PycharmProjects/bert/df_train.csv\",\n",
    "                       split=\"train\") # should define split\n",
    "df_valid = load_dataset(\"csv\", data_files=\"/Users/ruochentan1/PycharmProjects/bert/df_valid.csv\",\n",
    "                       split=\"train\")"
   ]
  },
  {
   "cell_type": "code",
   "execution_count": null,
   "id": "64ef4c1f",
   "metadata": {},
   "outputs": [],
   "source": [
    "# remove unuseful columns \n",
    "train = df_train.remove_columns(['Unnamed: 0', 'unixReviewTime',\"reviewTime\"])\n",
    "valid = df_valid.remove_columns(['Unnamed: 0','unixReviewTime',\"reviewTime\"])\n"
   ]
  },
  {
   "cell_type": "code",
   "execution_count": null,
   "id": "e3d3f087",
   "metadata": {},
   "outputs": [],
   "source": [
    "# extract a list of label \n",
    "labels = [label for label in train.features.keys() if label not in ['Rating', \"UserId\",\"ItemId\",\"reviewText\"]]\n",
    "id2label = {idx:label for idx, label in enumerate(labels)}\n",
    "label2id = {label:idx for idx, label in enumerate(labels)}\n",
    "labels"
   ]
  },
  {
   "cell_type": "markdown",
   "id": "b43d8c88",
   "metadata": {},
   "source": [
    "## Data Encoding "
   ]
  },
  {
   "cell_type": "code",
   "execution_count": null,
   "id": "584c88ac",
   "metadata": {},
   "outputs": [],
   "source": [
    "tokenizer = XLNetTokenizer.from_pretrained('xlnet-base-cased')"
   ]
  },
  {
   "cell_type": "code",
   "execution_count": null,
   "id": "ff27b123",
   "metadata": {},
   "outputs": [],
   "source": [
    "def preprocess_data(examples):\n",
    "    # take a batch of texts\n",
    "    text = examples[\"reviewText\"]\n",
    "    # encode them\n",
    "    encoding = tokenizer(text, padding=\"max_length\", truncation=True, max_length=128)\n",
    "    # add labels\n",
    "    labels_batch = {k: examples[k] for k in examples.keys() if k in labels}\n",
    "    # create numpy array of shape (batch_size, num_labels)\n",
    "    labels_matrix = np.zeros((len(text), len(labels)))\n",
    "    # fill numpy array\n",
    "    for idx, label in enumerate(labels):\n",
    "        labels_matrix[:, idx] = labels_batch[label]\n",
    "\n",
    "    encoding[\"labels\"] = labels_matrix.tolist()\n",
    "\n",
    "    return encoding"
   ]
  },
  {
   "cell_type": "code",
   "execution_count": null,
   "id": "4a67454b",
   "metadata": {},
   "outputs": [],
   "source": [
    "encoded_train = train.map(preprocess_data, batched=True, remove_columns=train.column_names)\n",
    "encoded_valid = valid.map(preprocess_data,batched =True, remove_columns = valid.column_names)"
   ]
  },
  {
   "cell_type": "code",
   "execution_count": null,
   "id": "1e07d7fd",
   "metadata": {},
   "outputs": [],
   "source": [
    "encoded_train.set_format(\"torch\")\n",
    "encoded_valid.set_format(\"torch\")\n",
    "encoded_train.save_to_disk(\"train_tokenized\")\n",
    "encoded_valid.save_to_disk(\"valid_tokenized\")"
   ]
  },
  {
   "cell_type": "markdown",
   "id": "774ae35e",
   "metadata": {},
   "source": [
    "## Define the model and the training "
   ]
  },
  {
   "cell_type": "code",
   "execution_count": null,
   "id": "35f0fb91",
   "metadata": {},
   "outputs": [],
   "source": [
    "model = XLNetForSequenceClassification.from_pretrained(\"xlnet-base-cased\",\n",
    "                                                           problem_type=\"multi_label_classification\",\n",
    "                                                           num_labels=len(labels),\n",
    "                                                           id2label=id2label,\n",
    "                                                           label2id=label2id)"
   ]
  },
  {
   "cell_type": "code",
   "execution_count": null,
   "id": "38be4c15",
   "metadata": {},
   "outputs": [],
   "source": [
    "os.environ[\"TOKENIZERS_PARALLELISM\"] = \"false\""
   ]
  },
  {
   "cell_type": "code",
   "execution_count": null,
   "id": "9d6b7bf6",
   "metadata": {},
   "outputs": [],
   "source": [
    "def multi_label_metrics(predictions, labels, threshold=0.5):\n",
    "    # first, apply sigmoid on predictions which are of shape (batch_size, num_labels)\n",
    "    sigmoid = torch.nn.Sigmoid()\n",
    "    probs = sigmoid(torch.Tensor(predictions))\n",
    "    # next, use threshold to turn them into integer predictions\n",
    "    y_pred = np.zeros(probs.shape)\n",
    "    y_pred[np.where(probs >= threshold)] = 1\n",
    "    # finally, compute metrics\n",
    "    y_true = labels\n",
    "    f1_micro_average = f1_score(y_true=y_true, y_pred=y_pred, average='weighted')\n",
    "    roc_auc = roc_auc_score(y_true, y_pred, average='weighted')\n",
    "    accuracy = accuracy_score(y_true, y_pred)\n",
    "    # return as dictionary\n",
    "    metrics = {'f1': f1_micro_average,\n",
    "               'roc_auc': roc_auc,\n",
    "               'accuracy': accuracy}\n",
    "    return metrics"
   ]
  },
  {
   "cell_type": "code",
   "execution_count": null,
   "id": "68e1e647",
   "metadata": {},
   "outputs": [],
   "source": [
    "def compute_metrics(p: EvalPrediction):\n",
    "    preds = p.predictions[0] if isinstance(p.predictions,\n",
    "                                           tuple) else p.predictions\n",
    "    result = multi_label_metrics(\n",
    "        predictions=preds,\n",
    "        labels=p.label_ids)\n",
    "    return result"
   ]
  },
  {
   "cell_type": "code",
   "execution_count": null,
   "id": "988878de",
   "metadata": {},
   "outputs": [],
   "source": [
    "import copy\n",
    "class CustomCallback(TrainerCallback):\n",
    "\n",
    "    def __init__(self, trainer) -> None:\n",
    "        super().__init__()\n",
    "        self._trainer = trainer\n",
    "\n",
    "    def on_epoch_end(self, args, state, control, **kwargs):\n",
    "        if control.should_evaluate:\n",
    "            control_copy = copy.deepcopy(control)\n",
    "            self._trainer.evaluate(eval_dataset=self._trainer.train_dataset, metric_key_prefix=\"train\")\n",
    "            return control_copy # initiate callback to get the training evaluation "
   ]
  },
  {
   "cell_type": "code",
   "execution_count": null,
   "id": "1a43ec91",
   "metadata": {},
   "outputs": [],
   "source": [
    "training_args = TrainingArguments(\n",
    "    evaluation_strategy = \"epoch\", # show eval loss in each epoch\n",
    "    logging_strategy=\"epoch\", # show validation?\n",
    "    save_strategy = \"epoch\",\n",
    "    learning_rate=2e-5,\n",
    "    per_device_train_batch_size=16,\n",
    "    per_device_eval_batch_size=64,\n",
    "    num_train_epochs=4,\n",
    "    weight_decay=0.01,\n",
    "    metric_for_best_model=\"f1\",\n",
    "    load_best_model_at_end=True,\n",
    "    seed = 1998,\n",
    "     output_dir=\"/Users/ruochentan1/PycharmProjects/xlnet/\")"
   ]
  },
  {
   "cell_type": "code",
   "execution_count": null,
   "id": "b8819aac",
   "metadata": {},
   "outputs": [],
   "source": [
    "trainer = Trainer(\n",
    "    model,\n",
    "    training_args,\n",
    "    train_dataset=encoded_train,\n",
    "    eval_dataset= encoded_valid,\n",
    "    tokenizer=tokenizer,\n",
    "    compute_metrics=compute_metrics\n",
    ")\n"
   ]
  },
  {
   "cell_type": "code",
   "execution_count": null,
   "id": "1623ca0e",
   "metadata": {},
   "outputs": [],
   "source": [
    "trainer.add_callback(CustomCallback(trainer))\n",
    "trainer.train()"
   ]
  },
  {
   "cell_type": "code",
   "execution_count": null,
   "id": "d93a11f5",
   "metadata": {},
   "outputs": [],
   "source": [
    "trainer.state.log_history # sum all history of training loss and metrics\n",
    "trainer.evaluate() # evaluate on trianning dataset"
   ]
  },
  {
   "cell_type": "markdown",
   "id": "71a4bd15",
   "metadata": {},
   "source": [
    "## Save the fine-tuned model \n"
   ]
  },
  {
   "cell_type": "code",
   "execution_count": null,
   "id": "8ec8817c",
   "metadata": {},
   "outputs": [],
   "source": [
    "output_dir = \"/Users/ruochentan1/PycharmProjects/xlnet\"\n",
    "# Step 1: Save a model, configuration and vocabulary that you have fine-tuned\n",
    "model_to_save = model.module if hasattr(model, 'module') else model\n",
    "\n",
    "output_model_file = os.path.join(output_dir, WEIGHTS_NAME)\n",
    "output_config_file = os.path.join(output_dir, CONFIG_NAME)\n",
    "\n",
    "torch.save(model_to_save.state_dict(), output_model_file)\n",
    "model_to_save.config.to_json_file(output_config_file)\n",
    "tokenizer.save_vocabulary(output_dir)\n",
    "\n",
    "# Step 2: Re-load the saved model and vocabulary\n",
    "\n",
    "output_dir = \"/Users/ruochentan1/PycharmProjects/xlnet\"\n",
    "model = XLNetForSequenceClassification.from_pretrained(output_dir)\n",
    "tokenizer = XLNetTokenizer.from_pretrained(output_dir)  # Add specific options if needed\n"
   ]
  },
  {
   "cell_type": "markdown",
   "id": "e9469e01",
   "metadata": {},
   "source": [
    "## Predict with test data set "
   ]
  },
  {
   "cell_type": "code",
   "execution_count": null,
   "id": "361387d5",
   "metadata": {},
   "outputs": [],
   "source": [
    "df_test = load_dataset(\"csv\", data_files=\"/Users/ruochentan1/PycharmProjects/bert/df_test_full.csv\",\n",
    "                       split=\"train\")\n",
    "test = df_test.remove_columns(['Unnamed: 0',\"unixReviewTime\",\"reviewTime\"])"
   ]
  },
  {
   "cell_type": "code",
   "execution_count": null,
   "id": "55a6981c",
   "metadata": {},
   "outputs": [],
   "source": [
    "labels = [label for label in test.features.keys() if label not in ['Rating', \"UserId\",\"ItemId\",\"reviewText\"]]\n",
    "id2label = {idx:label for idx, label in enumerate(labels)}\n",
    "label2id = {label:idx for idx, label in enumerate(labels)}\n",
    "labels"
   ]
  },
  {
   "cell_type": "code",
   "execution_count": null,
   "id": "966e661b",
   "metadata": {},
   "outputs": [],
   "source": [
    "encoded_test = test.map(preprocess_data, batched=True, remove_columns= test.column_names) # with its own labels\n",
    "encoded_test.set_format(\"torch\")\n",
    "encoded_test.save_to_disk(\"test_tokenized\")"
   ]
  },
  {
   "cell_type": "code",
   "execution_count": null,
   "id": "17438b11",
   "metadata": {},
   "outputs": [],
   "source": [
    "predictions = trainer.predict(encoded_test) # return as logits\n",
    "preds = np.argmax(predictions.predictions, axis=-1) "
   ]
  },
  {
   "cell_type": "code",
   "execution_count": null,
   "id": "b72926d1",
   "metadata": {},
   "outputs": [],
   "source": [
    "df_test = pd.read_csv(\"/Users/ruochentan1/PycharmProjects/bert/df_test.csv\")\n",
    "df_test[\"preds\"] = preds\n",
    "df_test[\"preds\"] = df_test.preds.replace([0, 1, 2, 3,4], [1, 2, 3, 4,5])\n",
    "df_test_full = pd.read_csv(\"/Users/ruochentan1/PycharmProjects/bert/df_test_full.csv\")\n",
    "df_test[\"true\"] = df_test_full[\"Rating\"]\n",
    "df_test.to_csv(\"xlnet_result.csv\",index =False, header = True)"
   ]
  },
  {
   "cell_type": "code",
   "execution_count": null,
   "id": "956a2fb2",
   "metadata": {},
   "outputs": [],
   "source": [
    "y_pred = df_test.loc[df_test['Rating'].isnull(), 'preds']\n",
    "y_true = df_test.loc[df_test['Rating'].isnull(),'true']\n",
    "print(metrics.confusion_matrix(y_true, y_pred))\n",
    "print(metrics.classification_report(y_true,y_pred,digits = 3))"
   ]
  },
  {
   "cell_type": "code",
   "execution_count": null,
   "id": "22456090",
   "metadata": {},
   "outputs": [],
   "source": [
    "# Convert y_pred to one-hot encoded format\n",
    "lb = LabelBinarizer()\n",
    "y_pred_one_hot = lb.fit_transform(y_pred)\n",
    "\n",
    "# Compute roc_auc_score\n",
    "roc_auc = roc_auc_score(y_true, y_pred_one_hot, multi_class='ovr')"
   ]
  },
  {
   "cell_type": "markdown",
   "id": "2b3da878",
   "metadata": {},
   "source": [
    "## Plot the model learning curve "
   ]
  },
  {
   "cell_type": "code",
   "execution_count": null,
   "id": "d9f1c91a",
   "metadata": {},
   "outputs": [],
   "source": [
    "import matplotlib.pyplot as plt\n",
    "# Generate a sequence of integers to represent the epoch numbers\n",
    "epochs = range(1, 5)\n",
    "train_values = [ 0.158384,  0.111854,  0.080768,  0.0683956]\n",
    "val_values = [ 0.189517, 0.1541229, 0.174199,  0.1807012]\n",
    "# Plot and label the training and validation loss values\n",
    "plt.plot(epochs, train_values, label ='Training Loss')\n",
    "plt.plot(epochs, val_values, label='Validation Loss')\n",
    "# Add in a title and axes labels\n",
    "plt.title('Training and Validation Loss')\n",
    "plt.xlabel('Epochs')\n",
    "plt.ylabel('Loss')\n",
    "# Display the plot\n",
    "plt.legend(loc='best')\n",
    "plt.show()"
   ]
  }
 ],
 "metadata": {
  "kernelspec": {
   "display_name": "Python 3 (ipykernel)",
   "language": "python",
   "name": "python3"
  },
  "language_info": {
   "codemirror_mode": {
    "name": "ipython",
    "version": 3
   },
   "file_extension": ".py",
   "mimetype": "text/x-python",
   "name": "python",
   "nbconvert_exporter": "python",
   "pygments_lexer": "ipython3",
   "version": "3.9.13"
  }
 },
 "nbformat": 4,
 "nbformat_minor": 5
}
